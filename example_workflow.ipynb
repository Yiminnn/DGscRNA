{
 "cells": [
  {
   "cell_type": "markdown",
   "id": "65f1c666",
   "metadata": {},
   "source": [
    "## 3. Data Preprocessing\n",
    "\n",
    "Prepare the data for annotation by performing basic preprocessing steps."
   ]
  },
  {
   "cell_type": "code",
   "execution_count": null,
   "id": "0b3eeaa7",
   "metadata": {},
   "outputs": [],
   "source": [
    "# Basic preprocessing\n",
    "print(\"Preprocessing data...\")\n",
    "\n",
    "# Prepare for annotation (simplified - no QC filtering)\n",
    "dgsc.pp.prepare_for_annotation(adata, min_genes=200)\n",
    "\n",
    "# Select highly variable genes\n",
    "dgsc.pp.select_hvgs(adata, n_top_genes=500)  # Reduced for demo\n",
    "\n",
    "print(f\"After preprocessing: {adata.n_obs} cells × {adata.n_vars} genes\")\n",
    "print(f\"Highly variable genes: {adata.var['highly_variable'].sum()}\")"
   ]
  },
  {
   "cell_type": "markdown",
   "id": "71990666",
   "metadata": {},
   "source": [
    "## 4. Clustering\n",
    "\n",
    "Perform clustering to get initial cell groupings that will be used for annotation."
   ]
  },
  {
   "cell_type": "code",
   "execution_count": null,
   "id": "0ce04103",
   "metadata": {},
   "outputs": [],
   "source": [
    "# Principal component analysis\n",
    "sc.tl.pca(adata, svd_solver='arpack')\n",
    "\n",
    "# Compute the neighborhood graph\n",
    "sc.pp.neighbors(adata, n_neighbors=10, n_pcs=40)\n",
    "\n",
    "# Perform UMAP for visualization\n",
    "sc.tl.umap(adata)\n",
    "\n",
    "# Leiden clustering\n",
    "sc.tl.leiden(adata, resolution=0.5)\n",
    "\n",
    "# Also create a second clustering method for comparison\n",
    "sc.tl.leiden(adata, resolution=0.3, key_added='leiden_03')\n",
    "\n",
    "print(f\"Leiden clusters (0.5): {adata.obs['leiden'].nunique()}\")\n",
    "print(f\"Leiden clusters (0.3): {adata.obs['leiden_03'].nunique()}\")"
   ]
  },
  {
   "cell_type": "markdown",
   "id": "2b0badd0",
   "metadata": {},
   "source": [
    "## 5. Visualize Initial Clustering"
   ]
  },
  {
   "cell_type": "code",
   "execution_count": null,
   "id": "21332d5d",
   "metadata": {},
   "outputs": [],
   "source": [
    "# Plot UMAP with different annotations\n",
    "fig, axes = plt.subplots(1, 3, figsize=(15, 4))\n",
    "\n",
    "# True cell types\n",
    "sc.pl.umap(adata, color='true_cell_type', ax=axes[0], show=False, title='True Cell Types')\n",
    "\n",
    "# Leiden clustering\n",
    "sc.pl.umap(adata, color='leiden', ax=axes[1], show=False, title='Leiden Clustering (0.5)')\n",
    "sc.pl.umap(adata, color='leiden_03', ax=axes[2], show=False, title='Leiden Clustering (0.3)')\n",
    "\n",
    "plt.tight_layout()\n",
    "plt.show()"
   ]
  },
  {
   "cell_type": "markdown",
   "id": "1e4f4140",
   "metadata": {},
   "source": [
    "## 6. Create Marker Gene Sets\n",
    "\n",
    "For demonstration, we'll create marker gene sets programmatically. In practice, you would load these from files."
   ]
  },
  {
   "cell_type": "code",
   "execution_count": null,
   "id": "7cc4609f",
   "metadata": {},
   "outputs": [],
   "source": [
    "# Create marker gene sets for demonstration\n",
    "import os\n",
    "\n",
    "# Create markers directory if it doesn't exist\n",
    "marker_dir = 'demo_markers'\n",
    "os.makedirs(marker_dir, exist_ok=True)\n",
    "\n",
    "# Create CellMarker dataset\n",
    "cellmarker_data = {\n",
    "    'gene': ['CD3D', 'CD3E', 'CD3G', 'CD19', 'CD79A', 'MS4A1', 'CD14', 'CD68', 'LYZ', \n",
    "             'CD8A', 'CD8B', 'CD4', 'FCGR3A', 'NCAM1'],\n",
    "    'Tcell': [1, 1, 1, 0, 0, 0, 0, 0, 0, 1, 1, 1, 0, 0],\n",
    "    'Bcell': [0, 0, 0, 1, 1, 1, 0, 0, 0, 0, 0, 0, 0, 0],\n",
    "    'Monocyte': [0, 0, 0, 0, 0, 0, 1, 1, 1, 0, 0, 0, 0, 0],\n",
    "    'NK': [0, 0, 0, 0, 0, 0, 0, 0, 0, 0, 0, 0, 1, 1]\n",
    "}\n",
    "\n",
    "cellmarker_df = pd.DataFrame(cellmarker_data)\n",
    "cellmarker_df.to_csv(f'{marker_dir}/CellMarker.csv', index=False)\n",
    "\n",
    "# Create PanglaoDB dataset (slightly different markers)\n",
    "panglaodb_data = {\n",
    "    'gene': ['CD3D', 'CD3E', 'CD19', 'MS4A1', 'CD14', 'LYZ', 'CD8A', 'CD4', 'NCAM1'],\n",
    "    'T_cell': [1, 1, 0, 0, 0, 0, 1, 1, 0],\n",
    "    'B_cell': [0, 0, 1, 1, 0, 0, 0, 0, 0],\n",
    "    'Myeloid': [0, 0, 0, 0, 1, 1, 0, 0, 0],\n",
    "    'NK_cell': [0, 0, 0, 0, 0, 0, 0, 0, 1]\n",
    "}\n",
    "\n",
    "panglaodb_df = pd.DataFrame(panglaodb_data)\n",
    "panglaodb_df.to_csv(f'{marker_dir}/PanglaoDB.tsv', sep='\\t', index=False)\n",
    "\n",
    "print(f\"Created marker files in {marker_dir}/\")\n",
    "print(f\"CellMarker.csv: {cellmarker_df.shape}\")\n",
    "print(f\"PanglaoDB.tsv: {panglaodb_df.shape}\")"
   ]
  },
  {
   "cell_type": "markdown",
   "id": "2a344f5b",
   "metadata": {},
   "source": [
    "## 7. Load Marker Gene Sets"
   ]
  },
  {
   "cell_type": "code",
   "execution_count": null,
   "id": "a230bdee",
   "metadata": {},
   "outputs": [],
   "source": [
    "# Load marker gene sets\n",
    "print(\"Loading marker gene sets...\")\n",
    "marker_sources = dgsc.load_markers(marker_dir)\n",
    "\n",
    "print(f\"Loaded {len(marker_sources)} marker sources:\")\n",
    "for source_name, markers in marker_sources.items():\n",
    "    print(f\"  {source_name}: {len(markers)} cell types\")\n",
    "    for cell_type, genes in markers.items():\n",
    "        print(f\"    {cell_type}: {len(genes)} genes\")"
   ]
  },
  {
   "cell_type": "markdown",
   "id": "145e0856",
   "metadata": {},
   "source": [
    "## 8. Calculate Density Scores\n",
    "\n",
    "Calculate density scores for different clustering methods and thresholds."
   ]
  },
  {
   "cell_type": "code",
   "execution_count": null,
   "id": "1e09fd79",
   "metadata": {},
   "outputs": [],
   "source": [
    "# Calculate density scores\n",
    "print(\"Calculating density scores...\")\n",
    "\n",
    "# Use multiple clustering methods and thresholds\n",
    "dgsc.density_score(\n",
    "    adata,\n",
    "    marker_sources,\n",
    "    cluster_columns=['leiden', 'leiden_03'],\n",
    "    cutoffs=['0.5', 'mean', 'none']\n",
    ")\n",
    "\n",
    "# Check the new columns added\n",
    "density_cols = [col for col in adata.obs.columns if any(source in col for source in marker_sources.keys())]\n",
    "print(f\"\\nAdded {len(density_cols)} density score columns:\")\n",
    "for col in sorted(density_cols)[:10]:  # Show first 10\n",
    "    print(f\"  {col}\")\n",
    "if len(density_cols) > 10:\n",
    "    print(f\"  ... and {len(density_cols) - 10} more\")"
   ]
  },
  {
   "cell_type": "markdown",
   "id": "29c8a38b",
   "metadata": {},
   "source": [
    "## 9. Visualize Density Scores"
   ]
  },
  {
   "cell_type": "code",
   "execution_count": null,
   "id": "3288e42d",
   "metadata": {},
   "outputs": [],
   "source": [
    "# Plot density scores for one clustering method\n",
    "score_cols = [col for col in adata.obs.columns if 'leiden_CellMarker' in col and '0.5' in col]\n",
    "\n",
    "if len(score_cols) > 0:\n",
    "    print(f\"Plotting density scores for {len(score_cols)} cell types...\")\n",
    "    dgsc.pl.plot_density_scores(adata, score_cols[:4], 'leiden')  # Plot first 4\n",
    "else:\n",
    "    print(\"No density score columns found for visualization\")"
   ]
  },
  {
   "cell_type": "markdown",
   "id": "ed66a777",
   "metadata": {},
   "source": [
    "## 10. Deep Learning Annotation\n",
    "\n",
    "Use deep learning to refine the annotations based on density scores."
   ]
  },
  {
   "cell_type": "code",
   "execution_count": null,
   "id": "024d9bc9",
   "metadata": {},
   "outputs": [],
   "source": [
    "# Find a good annotation column for deep learning\n",
    "annotation_candidates = [col for col in adata.obs.columns if 'Tcell' in col and '0.5' in col]\n",
    "\n",
    "if len(annotation_candidates) > 0:\n",
    "    annotation_col = annotation_candidates[0]\n",
    "    print(f\"Using annotation column: {annotation_col}\")\n",
    "    \n",
    "    # Apply deep learning annotation\n",
    "    print(\"Applying deep learning annotation...\")\n",
    "    dgsc.dgscrna_annotate(\n",
    "        adata,\n",
    "        annotation_column=annotation_col,\n",
    "        epochs=5,  # Reduced for demo\n",
    "        confidence_threshold=0.8\n",
    "    )\n",
    "    \n",
    "    dl_annotation_col = f\"{annotation_col}_DGscRNA\"\n",
    "    print(f\"Deep learning annotation complete. Results in: {dl_annotation_col}\")\n",
    "    \n",
    "    # Show annotation distribution\n",
    "    print(\"\\nAnnotation distribution:\")\n",
    "    print(adata.obs[dl_annotation_col].value_counts())\n",
    "    \n",
    "else:\n",
    "    print(\"No suitable annotation column found for deep learning\")\n",
    "    dl_annotation_col = None"
   ]
  },
  {
   "cell_type": "markdown",
   "id": "3c2cc301",
   "metadata": {},
   "source": [
    "## 11. Run Complete Workflow\n",
    "\n",
    "Alternatively, you can run the entire workflow with a single function call."
   ]
  },
  {
   "cell_type": "code",
   "execution_count": null,
   "id": "a23e3454",
   "metadata": {},
   "outputs": [],
   "source": [
    "# Create a copy of the data for the complete workflow\n",
    "adata_workflow = adata.copy()\n",
    "\n",
    "# Run the complete workflow\n",
    "print(\"Running complete workflow...\")\n",
    "dgsc.run_dgscrna_workflow(\n",
    "    adata_workflow,\n",
    "    marker_folder=marker_dir,\n",
    "    cluster_columns=['leiden'],\n",
    "    cutoffs=['0.5'],\n",
    "    epochs=3  # Reduced for demo\n",
    ")\n",
    "\n",
    "# Check results\n",
    "workflow_cols = [col for col in adata_workflow.obs.columns if 'DGscRNA' in col]\n",
    "print(f\"\\nWorkflow complete. Added {len(workflow_cols)} annotation columns:\")\n",
    "for col in workflow_cols:\n",
    "    print(f\"  {col}\")"
   ]
  },
  {
   "cell_type": "markdown",
   "id": "0ee58296",
   "metadata": {},
   "source": [
    "## 12. Compare Annotations\n",
    "\n",
    "Compare the different annotation methods with the true cell types."
   ]
  },
  {
   "cell_type": "code",
   "execution_count": null,
   "id": "a54a9cf7",
   "metadata": {},
   "outputs": [],
   "source": [
    "# Compare annotations\n",
    "if dl_annotation_col and dl_annotation_col in adata.obs.columns:\n",
    "    print(\"Comparing annotations...\")\n",
    "    \n",
    "    # Plot comparison\n",
    "    dgsc.pl.plot_annotation_comparison(\n",
    "        adata,\n",
    "        'true_cell_type',\n",
    "        dl_annotation_col\n",
    "    )\n",
    "    \n",
    "    # Calculate accuracy\n",
    "    from sklearn.metrics import accuracy_score, classification_report\n",
    "    \n",
    "    # Map annotations for comparison\n",
    "    annotation_map = {\n",
    "        'T_cell': 'Tcell',\n",
    "        'B_cell': 'Bcell', \n",
    "        'Monocyte': 'Monocyte',\n",
    "        'NK_cell': 'NK'\n",
    "    }\n",
    "    \n",
    "    true_mapped = adata.obs['true_cell_type'].map(annotation_map)\n",
    "    predicted = adata.obs[dl_annotation_col]\n",
    "    \n",
    "    # Only compare cells that have predictions\n",
    "    mask = ~predicted.isin(['undecided', 'uncertain'])\n",
    "    if mask.sum() > 0:\n",
    "        accuracy = accuracy_score(true_mapped[mask], predicted[mask])\n",
    "        print(f\"\\nAccuracy: {accuracy:.3f}\")\n",
    "        \n",
    "        print(\"\\nClassification Report:\")\n",
    "        print(classification_report(true_mapped[mask], predicted[mask]))"
   ]
  },
  {
   "cell_type": "markdown",
   "id": "99a39381",
   "metadata": {},
   "source": [
    "## 13. Visualization Gallery\n",
    "\n",
    "Create comprehensive visualizations of the annotation results."
   ]
  },
  {
   "cell_type": "code",
   "execution_count": null,
   "id": "3e7892cc",
   "metadata": {},
   "outputs": [],
   "source": [
    "# UMAP plots with different annotations\n",
    "annotation_columns = ['true_cell_type', 'leiden']\n",
    "if dl_annotation_col and dl_annotation_col in adata.obs.columns:\n",
    "    annotation_columns.append(dl_annotation_col)\n",
    "\n",
    "print(\"Creating UMAP visualization...\")\n",
    "dgsc.pl.plot_umap_annotations(adata, annotation_columns)"
   ]
  },
  {
   "cell_type": "code",
   "execution_count": null,
   "id": "67acaa6d",
   "metadata": {},
   "outputs": [],
   "source": [
    "# Plot marker gene expression\n",
    "marker_genes = ['CD3D', 'CD19', 'CD14', 'FCGR3A']\n",
    "available_markers = [gene for gene in marker_genes if gene in adata.var_names]\n",
    "\n",
    "if len(available_markers) > 0:\n",
    "    print(f\"Plotting expression of {len(available_markers)} marker genes...\")\n",
    "    dgsc.pl.plot_marker_expression(adata, available_markers)"
   ]
  },
  {
   "cell_type": "markdown",
   "id": "d49720ac",
   "metadata": {},
   "source": [
    "## 14. Summary and Results\n",
    "\n",
    "Summarize the annotation results and provide insights."
   ]
  },
  {
   "cell_type": "code",
   "execution_count": null,
   "id": "982695c3",
   "metadata": {},
   "outputs": [],
   "source": [
    "# Summary statistics\n",
    "print(\"=== ANNOTATION SUMMARY ===\")\n",
    "print(f\"Total cells: {adata.n_obs}\")\n",
    "print(f\"Total genes: {adata.n_vars}\")\n",
    "\n",
    "print(\"\\nTrue cell type distribution:\")\n",
    "print(adata.obs['true_cell_type'].value_counts())\n",
    "\n",
    "print(\"\\nLeiden clustering distribution:\")\n",
    "print(adata.obs['leiden'].value_counts())\n",
    "\n",
    "if dl_annotation_col and dl_annotation_col in adata.obs.columns:\n",
    "    print(f\"\\nDeep learning annotation distribution ({dl_annotation_col}):\")\n",
    "    print(adata.obs[dl_annotation_col].value_counts())\n",
    "\n",
    "# List all annotation columns created\n",
    "all_annotation_cols = [col for col in adata.obs.columns \n",
    "                      if any(source in col for source in marker_sources.keys()) or 'DGscRNA' in col]\n",
    "\n",
    "print(f\"\\nCreated {len(all_annotation_cols)} annotation columns:\")\n",
    "for col in sorted(all_annotation_cols):\n",
    "    unique_vals = adata.obs[col].nunique()\n",
    "    print(f\"  {col}: {unique_vals} unique values\")"
   ]
  },
  {
   "cell_type": "markdown",
   "id": "aaeba135",
   "metadata": {},
   "source": [
    "## 15. Save Results\n",
    "\n",
    "Save the annotated data for further analysis."
   ]
  },
  {
   "cell_type": "code",
   "execution_count": null,
   "id": "fb6efa47",
   "metadata": {},
   "outputs": [],
   "source": [
    "# Save the annotated data\n",
    "output_file = 'annotated_data.h5ad'\n",
    "adata.write(output_file)\n",
    "print(f\"Saved annotated data to: {output_file}\")\n",
    "\n",
    "# Save workflow results as well\n",
    "workflow_output_file = 'annotated_data_workflow.h5ad'\n",
    "adata_workflow.write(workflow_output_file)\n",
    "print(f\"Saved workflow results to: {workflow_output_file}\")\n",
    "\n",
    "# Clean up demo files\n",
    "import shutil\n",
    "shutil.rmtree(marker_dir)\n",
    "print(f\"Cleaned up demo marker directory: {marker_dir}\")"
   ]
  },
  {
   "cell_type": "markdown",
   "id": "4475bda3",
   "metadata": {},
   "source": [
    "## 16. Next Steps\n",
    "\n",
    "This notebook demonstrated the complete `scanpy-dgscrna` workflow. Here are some next steps you can take:\n",
    "\n",
    "### For Your Own Data:\n",
    "1. **Load your h5ad file**: Replace the synthetic data creation with `sc.read_h5ad('your_data.h5ad')`\n",
    "2. **Prepare marker files**: Organize your marker gene sets in the required format\n",
    "3. **Adjust parameters**: Tune clustering resolution, epochs, confidence thresholds\n",
    "4. **Evaluate results**: Compare with known cell types or manual annotations\n",
    "\n",
    "### Advanced Usage:\n",
    "- **Custom thresholds**: Experiment with different density score cutoffs\n",
    "- **Multiple clustering methods**: Use different clustering algorithms\n",
    "- **Marker integration**: Combine multiple marker databases\n",
    "- **Validation**: Use cross-validation or hold-out sets\n",
    "\n",
    "### Troubleshooting:\n",
    "- **Memory issues**: Reduce the number of genes or use batch processing\n",
    "- **Poor annotations**: Check marker gene quality and expression levels\n",
    "- **Training issues**: Adjust learning rate, epochs, or network architecture\n",
    "\n",
    "For more information, see the [documentation](https://github.com/yourusername/scanpy-dgscrna) or create an issue on GitHub."
   ]
  }
 ],
 "metadata": {
  "language_info": {
   "name": "python"
  }
 },
 "nbformat": 4,
 "nbformat_minor": 5
}
